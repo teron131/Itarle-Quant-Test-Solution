{
 "cells": [
  {
   "cell_type": "code",
   "execution_count": 1,
   "metadata": {},
   "outputs": [],
   "source": [
    "import csv\n",
    "import pandas as pd"
   ]
  },
  {
   "cell_type": "code",
   "execution_count": 2,
   "metadata": {},
   "outputs": [],
   "source": [
    "def fix():\n",
    "    with open('scandi.csv', 'r') as infile, open('scandi_fixed.csv', 'w', newline='') as outfile:\n",
    "        reader = csv.reader(infile)\n",
    "        writer = csv.writer(outfile)\n",
    "        for row in reader:\n",
    "            if len(row) >= 16 and row[15] != '':\n",
    "                row[14] = row[14] + ' ' + row[15]\n",
    "                row.pop(15)\n",
    "            writer.writerow(row)\n",
    "\n",
    "fix()"
   ]
  },
  {
   "cell_type": "code",
   "execution_count": 13,
   "metadata": {},
   "outputs": [
    {
     "data": {
      "text/html": [
       "<div>\n",
       "<style scoped>\n",
       "    .dataframe tbody tr th:only-of-type {\n",
       "        vertical-align: middle;\n",
       "    }\n",
       "\n",
       "    .dataframe tbody tr th {\n",
       "        vertical-align: top;\n",
       "    }\n",
       "\n",
       "    .dataframe thead th {\n",
       "        text-align: right;\n",
       "    }\n",
       "</style>\n",
       "<table border=\"1\" class=\"dataframe\">\n",
       "  <thead>\n",
       "    <tr style=\"text-align: right;\">\n",
       "      <th></th>\n",
       "      <th>stock</th>\n",
       "      <th>bid price</th>\n",
       "      <th>ask price</th>\n",
       "      <th>trade price</th>\n",
       "      <th>bid vol</th>\n",
       "      <th>ask vol</th>\n",
       "      <th>trade vol</th>\n",
       "      <th>update type</th>\n",
       "      <th>date</th>\n",
       "      <th>time</th>\n",
       "      <th>cond</th>\n",
       "    </tr>\n",
       "  </thead>\n",
       "  <tbody>\n",
       "    <tr>\n",
       "      <th>0</th>\n",
       "      <td>BBHBEAT Index</td>\n",
       "      <td>121.40</td>\n",
       "      <td>125.40</td>\n",
       "      <td>123.40</td>\n",
       "      <td>1234</td>\n",
       "      <td>1234</td>\n",
       "      <td>1234</td>\n",
       "      <td>2</td>\n",
       "      <td>20150420</td>\n",
       "      <td>28264.0</td>\n",
       "      <td>@1</td>\n",
       "    </tr>\n",
       "    <tr>\n",
       "      <th>1</th>\n",
       "      <td>BBHBEAT Index</td>\n",
       "      <td>121.40</td>\n",
       "      <td>125.40</td>\n",
       "      <td>123.40</td>\n",
       "      <td>1234</td>\n",
       "      <td>1234</td>\n",
       "      <td>1234</td>\n",
       "      <td>2</td>\n",
       "      <td>20150420</td>\n",
       "      <td>28265.0</td>\n",
       "      <td>@1</td>\n",
       "    </tr>\n",
       "    <tr>\n",
       "      <th>2</th>\n",
       "      <td>BBHBEAT Index</td>\n",
       "      <td>121.40</td>\n",
       "      <td>125.40</td>\n",
       "      <td>123.40</td>\n",
       "      <td>1234</td>\n",
       "      <td>1234</td>\n",
       "      <td>1234</td>\n",
       "      <td>2</td>\n",
       "      <td>20150420</td>\n",
       "      <td>28266.0</td>\n",
       "      <td>@1</td>\n",
       "    </tr>\n",
       "    <tr>\n",
       "      <th>3</th>\n",
       "      <td>BBHBEAT Index</td>\n",
       "      <td>121.40</td>\n",
       "      <td>125.40</td>\n",
       "      <td>123.40</td>\n",
       "      <td>1234</td>\n",
       "      <td>1234</td>\n",
       "      <td>1234</td>\n",
       "      <td>2</td>\n",
       "      <td>20150420</td>\n",
       "      <td>28267.0</td>\n",
       "      <td>@1</td>\n",
       "    </tr>\n",
       "    <tr>\n",
       "      <th>4</th>\n",
       "      <td>BBHBEAT Index</td>\n",
       "      <td>121.40</td>\n",
       "      <td>125.40</td>\n",
       "      <td>123.40</td>\n",
       "      <td>1234</td>\n",
       "      <td>1234</td>\n",
       "      <td>1234</td>\n",
       "      <td>2</td>\n",
       "      <td>20150420</td>\n",
       "      <td>28268.0</td>\n",
       "      <td>@1</td>\n",
       "    </tr>\n",
       "    <tr>\n",
       "      <th>...</th>\n",
       "      <td>...</td>\n",
       "      <td>...</td>\n",
       "      <td>...</td>\n",
       "      <td>...</td>\n",
       "      <td>...</td>\n",
       "      <td>...</td>\n",
       "      <td>...</td>\n",
       "      <td>...</td>\n",
       "      <td>...</td>\n",
       "      <td>...</td>\n",
       "      <td>...</td>\n",
       "    </tr>\n",
       "    <tr>\n",
       "      <th>13260272</th>\n",
       "      <td>LUPE SS Equity</td>\n",
       "      <td>137.80</td>\n",
       "      <td>138.80</td>\n",
       "      <td>138.60</td>\n",
       "      <td>10157</td>\n",
       "      <td>4677</td>\n",
       "      <td>298449</td>\n",
       "      <td>2</td>\n",
       "      <td>20150423</td>\n",
       "      <td>59700.0</td>\n",
       "      <td>@1</td>\n",
       "    </tr>\n",
       "    <tr>\n",
       "      <th>13260273</th>\n",
       "      <td>WRT1V FH Equity</td>\n",
       "      <td>42.40</td>\n",
       "      <td>43.10</td>\n",
       "      <td>42.95</td>\n",
       "      <td>150</td>\n",
       "      <td>100</td>\n",
       "      <td>141176</td>\n",
       "      <td>2</td>\n",
       "      <td>20150423</td>\n",
       "      <td>59700.0</td>\n",
       "      <td>@1</td>\n",
       "    </tr>\n",
       "    <tr>\n",
       "      <th>13260274</th>\n",
       "      <td>KRA1V FH Equity</td>\n",
       "      <td>10.91</td>\n",
       "      <td>10.97</td>\n",
       "      <td>10.93</td>\n",
       "      <td>1740</td>\n",
       "      <td>1569</td>\n",
       "      <td>53741</td>\n",
       "      <td>3</td>\n",
       "      <td>20150423</td>\n",
       "      <td>59700.0</td>\n",
       "      <td>@1</td>\n",
       "    </tr>\n",
       "    <tr>\n",
       "      <th>13260275</th>\n",
       "      <td>BBHBEAT Index</td>\n",
       "      <td>121.40</td>\n",
       "      <td>125.40</td>\n",
       "      <td>123.40</td>\n",
       "      <td>1234</td>\n",
       "      <td>1234</td>\n",
       "      <td>1234</td>\n",
       "      <td>2</td>\n",
       "      <td>20150423</td>\n",
       "      <td>59700.0</td>\n",
       "      <td>@1</td>\n",
       "    </tr>\n",
       "    <tr>\n",
       "      <th>13260276</th>\n",
       "      <td>BBHBEAT Index</td>\n",
       "      <td>121.40</td>\n",
       "      <td>125.40</td>\n",
       "      <td>123.40</td>\n",
       "      <td>1234</td>\n",
       "      <td>1234</td>\n",
       "      <td>1234</td>\n",
       "      <td>2</td>\n",
       "      <td>20150423</td>\n",
       "      <td>59701.0</td>\n",
       "      <td>@1</td>\n",
       "    </tr>\n",
       "  </tbody>\n",
       "</table>\n",
       "<p>13260277 rows × 11 columns</p>\n",
       "</div>"
      ],
      "text/plain": [
       "                    stock  bid price  ask price  trade price  bid vol  \\\n",
       "0           BBHBEAT Index     121.40     125.40       123.40     1234   \n",
       "1           BBHBEAT Index     121.40     125.40       123.40     1234   \n",
       "2           BBHBEAT Index     121.40     125.40       123.40     1234   \n",
       "3           BBHBEAT Index     121.40     125.40       123.40     1234   \n",
       "4           BBHBEAT Index     121.40     125.40       123.40     1234   \n",
       "...                   ...        ...        ...          ...      ...   \n",
       "13260272   LUPE SS Equity     137.80     138.80       138.60    10157   \n",
       "13260273  WRT1V FH Equity      42.40      43.10        42.95      150   \n",
       "13260274  KRA1V FH Equity      10.91      10.97        10.93     1740   \n",
       "13260275    BBHBEAT Index     121.40     125.40       123.40     1234   \n",
       "13260276    BBHBEAT Index     121.40     125.40       123.40     1234   \n",
       "\n",
       "          ask vol  trade vol  update type      date     time cond  \n",
       "0            1234       1234            2  20150420  28264.0   @1  \n",
       "1            1234       1234            2  20150420  28265.0   @1  \n",
       "2            1234       1234            2  20150420  28266.0   @1  \n",
       "3            1234       1234            2  20150420  28267.0   @1  \n",
       "4            1234       1234            2  20150420  28268.0   @1  \n",
       "...           ...        ...          ...       ...      ...  ...  \n",
       "13260272     4677     298449            2  20150423  59700.0   @1  \n",
       "13260273      100     141176            2  20150423  59700.0   @1  \n",
       "13260274     1569      53741            3  20150423  59700.0   @1  \n",
       "13260275     1234       1234            2  20150423  59700.0   @1  \n",
       "13260276     1234       1234            2  20150423  59701.0   @1  \n",
       "\n",
       "[13260277 rows x 11 columns]"
      ]
     },
     "execution_count": 13,
     "metadata": {},
     "output_type": "execute_result"
    }
   ],
   "source": [
    "# 1 = Bloomberg Code/Stock identifier\n",
    "# 3 = Bid Price\n",
    "# 4 = Ask Price\n",
    "# 5 = Trade Price\n",
    "# 6 = Bid Volume\n",
    "# 7 = Ask Volume\n",
    "# 8 = Trade Volume\n",
    "# 9 = Update type => 1=Trade; 2= Change to Bid (Px or Vol); 3=Change to Ask (Px or Vol)\n",
    "# 11 = Date\n",
    "# 12 = Time in seconds past midnight\n",
    "# 15 = Condition codes\n",
    "\n",
    "data = pd.read_csv('scandi_fixed.csv', header=None, usecols=[0,2,3,4,5,6,7,8,10,11,14],\n",
    "                   names=['stock', 'bid price', 'ask price', 'trade price',\n",
    "                          'bid vol', 'ask vol', 'trade vol', 'update type', 'date', 'time', 'cond'])\n",
    "\n",
    "data.sort_values(by=['date', 'time'])     # Just ensure"
   ]
  },
  {
   "cell_type": "code",
   "execution_count": 14,
   "metadata": {},
   "outputs": [
    {
     "data": {
      "text/plain": [
       "count    1.530047e+06\n",
       "mean     7.999493e-02\n",
       "std      5.266928e-01\n",
       "min      0.000000e+00\n",
       "25%      0.000000e+00\n",
       "50%      0.000000e+00\n",
       "75%      0.000000e+00\n",
       "max      2.710000e+02\n",
       "Name: time, dtype: float64"
      ]
     },
     "execution_count": 14,
     "metadata": {},
     "output_type": "execute_result"
    }
   ],
   "source": [
    "# Mean time between trades\n",
    "# Median time between trades\n",
    "# Longest time between trades\n",
    "#data[(data['update type'] == 1) & (data['date'].diff() == 0)].groupby('date')['time'].diff().describe()\n",
    "trade_data = data[data['update type'] == 1][['trade price', 'trade vol', 'date', 'time']]\n",
    "trade_intervals = trade_data[trade_data['date'].diff() == 0].groupby('date')['time'].diff().dropna()\n",
    "trade_intervals.describe()"
   ]
  },
  {
   "cell_type": "code",
   "execution_count": 22,
   "metadata": {},
   "outputs": [
    {
     "data": {
      "text/plain": [
       "count    1.167510e+07\n",
       "mean     1.077035e-02\n",
       "std      1.032324e-01\n",
       "min      0.000000e+00\n",
       "25%      0.000000e+00\n",
       "50%      0.000000e+00\n",
       "75%      0.000000e+00\n",
       "max      2.000000e+00\n",
       "Name: time, dtype: float64"
      ]
     },
     "execution_count": 22,
     "metadata": {},
     "output_type": "execute_result"
    }
   ],
   "source": [
    "# Mean time between tick changes\n",
    "# Median time between tick changes\n",
    "# Longest time between tick changes\n",
    "#data[(data['update type'].isin([2,3])) & (data['date'].diff() == 0)].groupby('date')['time'].diff().describe()\n",
    "tick_data = data[data['update type'].isin([2,3])][['date', 'time']]\n",
    "tick_intervals = tick_data[tick_data['date'].diff() == 0].groupby('date')['time'].diff().dropna()\n",
    "tick_intervals.describe()"
   ]
  },
  {
   "cell_type": "code",
   "execution_count": 23,
   "metadata": {},
   "outputs": [
    {
     "data": {
      "text/plain": [
       "count    1.321186e+07\n",
       "mean     6.023452e-01\n",
       "std      1.233398e+01\n",
       "min      0.000000e+00\n",
       "25%      5.000000e-02\n",
       "50%      1.000000e-01\n",
       "75%      2.000000e-01\n",
       "max      1.640000e+03\n",
       "dtype: float64"
      ]
     },
     "execution_count": 23,
     "metadata": {},
     "output_type": "execute_result"
    }
   ],
   "source": [
    "# Mean bid ask spread\n",
    "# Median bid ask spread\n",
    "#data[(data['bid price'] != 0) & (data['ask price'] != 0)][['bid price', 'ask price']].diff(axis=1).abs().drop(columns='bid price').rename(columns={'ask price': 'spread'}).describe()\n",
    "bid_ask_price = data[(data['bid price'] != 0) & (data['ask price'] != 0)][['bid price', 'ask price']]\n",
    "bid_ask_spread = (bid_ask_price['bid price'] - bid_ask_price['ask price']).abs()\n",
    "bid_ask_spread.describe()"
   ]
  },
  {
   "cell_type": "code",
   "execution_count": 24,
   "metadata": {},
   "outputs": [
    {
     "data": {
      "text/plain": [
       "<Axes: >"
      ]
     },
     "execution_count": 24,
     "metadata": {},
     "output_type": "execute_result"
    },
    {
     "data": {
      "image/png": "[encoded data removed]",
      "text/plain": [
       "<Figure size 640x480 with 1 Axes>"
      ]
     },
     "metadata": {},
     "output_type": "display_data"
    }
   ],
   "source": [
    "# Examples of the round number effect: trade price\n",
    "trade_data['trade price'].round().mod(10).hist()"
   ]
  },
  {
   "cell_type": "code",
   "execution_count": 25,
   "metadata": {},
   "outputs": [
    {
     "data": {
      "text/plain": [
       "<Axes: >"
      ]
     },
     "execution_count": 25,
     "metadata": {},
     "output_type": "execute_result"
    },
    {
     "data": {
      "image/png": "[encoded data removed]",
      "text/plain": [
       "<Figure size 640x480 with 1 Axes>"
      ]
     },
     "metadata": {},
     "output_type": "display_data"
    }
   ],
   "source": [
    "# Examples of the round number effect: trade volume\n",
    "trade_data['trade vol'].round().mod(10).hist()"
   ]
  }
 ],
 "metadata": {
  "kernelspec": {
   "display_name": "Python 3",
   "language": "python",
   "name": "python3"
  },
  "language_info": {
   "codemirror_mode": {
    "name": "ipython",
    "version": 3
   },
   "file_extension": ".py",
   "mimetype": "text/x-python",
   "name": "python",
   "nbconvert_exporter": "python",
   "pygments_lexer": "ipython3",
   "version": "3.11.4"
  },
  "orig_nbformat": 4
 },
 "nbformat": 4,
 "nbformat_minor": 2
}
